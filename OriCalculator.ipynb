{
  "nbformat": 4,
  "nbformat_minor": 0,
  "metadata": {
    "colab": {
      "name": "OriCalculator Pipeline ",
      "version": "0.3.2",
      "provenance": [],
      "collapsed_sections": []
    },
    "kernelspec": {
      "name": "python3",
      "display_name": "Python 3"
    }
  },
  "cells": [
    {
      "metadata": {
        "id": "xPIALRTCsUvm",
        "colab_type": "code",
        "colab": {}
      },
      "cell_type": "code",
      "source": [
        "import matplotlib.pyplot as plt\n",
        "import numpy as np\n",
        "import seaborn as sns; sns.set()\n",
        "import pandas as pd"
      ],
      "execution_count": 0,
      "outputs": []
    },
    {
      "metadata": {
        "id": "gpbLBM-k0Uiv",
        "colab_type": "text"
      },
      "cell_type": "markdown",
      "source": [
        "#Origin of Replication"
      ]
    },
    {
      "metadata": {
        "id": "hT3fQ-0D0bPk",
        "colab_type": "text"
      },
      "cell_type": "markdown",
      "source": [
        "With gene replication being one of the most important biological processes in a cell, its no surprise finding the origin of replication (oriC) is pursued endeavor for bioinformaticians and computational biologists. The task varies from genome to genome, and string to string with context-specific details. However, there are some universal traits that we can turn into a toolbox of tricks with programming that will assist life scientists with understanding any strand out there.\n",
        "\n",
        "It should be noted that many of these algorithms could be streamlined with the use of numeric processing libraries like numpy/tensorflow and data manipulation ones like pandas. However to focus on teaching basic python fundamentals and not overwhelm you, we'll focus on purely what Python can offer."
      ]
    },
    {
      "metadata": {
        "id": "oncMGsEjwfki",
        "colab_type": "code",
        "colab": {}
      },
      "cell_type": "code",
      "source": [
        "sample_genome = 'ATCAATGATCAACGTAAGCTTCTAAGCATGATCAAGGTGCTCACACAGTTTATCCACAACCTGAGTGGATGACATCAAGATAGGTCGTTGTATCTCCTTCCTCTCGTACTCTCATGACCACGGAAAGATGATCAAGAGAGGATGATTTCTTGGCCATATCGCAATGAATACTTGTGACTTGTGCTTCCAATTGACATCTTCAGCGCCATATTGCGCTGGCCAAGGTGACGGAGCGGGATTACGAAAGCATGATCATGGCTGTTGTTCTGTTTATCTTGTTTTGACTGAGACTTGTTAGGATAGACGGTTTTTCATCACTGACTAGCCAAAGCCTTACTCTGCCTGACATCGACCGTAAATTGATAATGAATTTACATGCTTCCGCGACGATTTACCTCTTGATCATCGATCCGATTGAAGATCTTCAATTGTTAATTCTCTTGCCTCGACTCATAGCCATGATGAGCTCTTGATCATGTTTCCTTAACCCTCTATTTTTTACGGAAGAATGATCAAGCTGCTGCTCTTGATCATCGTTTC'\n",
        "#Arbitrary string for us to test our functions/pipeline on."
      ],
      "execution_count": 0,
      "outputs": []
    },
    {
      "metadata": {
        "id": "I-rstRIBLZP7",
        "colab_type": "text"
      },
      "cell_type": "markdown",
      "source": [
        "## Frequency of Patterns Method"
      ]
    },
    {
      "metadata": {
        "id": "IRq8iAQozuW4",
        "colab_type": "code",
        "colab": {}
      },
      "cell_type": "code",
      "source": [
        "def pattern_frequency(pattern, genwindow):\n",
        "  '''\n",
        "  Input: pattern = Pattern of nucleotides you wish to search the genome window for\n",
        "         genwindow = Section of sample genome (or entire genome)\n",
        "\n",
        "  Output: Number of times pattern shows up in the genome window\n",
        "  \n",
        "  Slides through the genome window and looks for the pattern (can be anything length from 'G' or 'ACT') and returns how often it occurs.\n",
        "  '''\n",
        "  count = 0\n",
        "  for i in range(len(genwindow) - len(pattern)+1):\n",
        "    if genwindow[i:i+len(pattern)] == pattern:\n",
        "      count += 1  \n",
        "  return count\n",
        "\n",
        "\n",
        "\n",
        "def all_pattern_frequency_compiler(k, sample_genome):\n",
        "  '''\n",
        "  Input: sample_genome = genome string to be scanned through\n",
        "         k = length of k-mer to be found\n",
        "         \n",
        "  Output: Dictionary of every k-mer and its frequency\n",
        "  \n",
        "  This function uses a 'sliding window' with length 'k' to scan through the sample genome and create a dictionary with EVERY k pattern as a key and its frequency as its dict entry.\n",
        "  \n",
        "  '''\n",
        "  frequency = {}\n",
        "  for i in range(len(sample_genome)-k+1):\n",
        "    pattern = sample_genome[i:i+k]\n",
        "    frequency[pattern] = 0\n",
        "    for i in range(len(sample_genome) - len(pattern)+1):\n",
        "      if sample_genome[i:i+len(pattern)] == pattern:\n",
        "        frequency[pattern] = frequency[pattern] + 1\n",
        "  return frequency\n",
        "\n",
        "      \n",
        "  \n",
        "def highest_frequency_info(frequency):\n",
        "  \n",
        "  '''\n",
        "  Input: dictionary from all_symbol_frequency_compiler function\n",
        "  \n",
        "  Output: Returns list of patterns with the highest frequency\n",
        "  \n",
        "  Continuing from the previous function, this returns the patterns with the highest frequency so user knows which ones to focus on.\n",
        "  '''\n",
        "  \n",
        "  m = max(frequency.values())\n",
        "  highest_patterns = []\n",
        "  for key in frequency:\n",
        "    if frequency[key] == m:\n",
        "      highest_patterns.append(key)\n",
        "  return highest_patterns\n",
        "    \n",
        "  \n",
        "  \n",
        "def complementary_string(string):\n",
        "  '''\n",
        "  Input: Any string of nucleotides\n",
        "  \n",
        "  Output: Returns complementary to inputted string\n",
        "  \n",
        "  General useful tool in research for a quick transformation on a string.\n",
        "  '''\n",
        "  \n",
        "  reversed = string[::-1]\n",
        "  dna_dict_map = {\"A\" : \"T\" , \"T\":\"A\", \"G\":\"C\", \"C\":\"G\" }\n",
        "  comp = ''\n",
        "  for i in reversed:\n",
        "    comp = comp + dna_dict_map[i]\n",
        "  return comp\n",
        "  \n",
        "\n",
        "  \n",
        "def pattern_position_finder(patterns, sample_genome):\n",
        "  '''\n",
        "  Input: A list of patterns. Even if its a single pattern, make sure its in a list\n",
        "  \n",
        "  Output: Dictionary with each pattern as a key and its positions at which it appears as its entry\n",
        "  \n",
        "  Helpful to to locates 'clumps' of patterns to check how close they are to each other and check for an OriC.\n",
        "  '''\n",
        "  position_dict = {}\n",
        "  for string in patterns:\n",
        "    positions = [i for i in range(len(sample_genome)-len(string)+1) if sample_genome[i:i+len(string)] == string]\n",
        "    position_dict[string] = positions\n",
        "  return position_dict\n",
        "\n",
        "\n",
        "def positions_grapher(sample_genome):\n",
        "  '''\n",
        "  Input = sample_genome\n",
        "  \n",
        "  Output = Graph where all the occurrences of the most frequent Kmer show up on the genome as values of 1 (a binary step function)'''\n",
        "  base = [0] * len(sample_genome)\n",
        "  sample_dict = pattern_position_finder(highest_frequency_info(all_pattern_frequency_compiler(5, sample_genome)), sample_genome)\n",
        "  list_of_high_freq = highest_frequency_info(all_pattern_frequency_compiler(5, sample_genome))\n",
        "  for i in sample_dict[list_of_high_freq[0]]:\n",
        "    base[i] = 1\n",
        "  x = np.arange(0, len(sample_genome), 1)\n",
        "  y = base\n",
        "\n",
        "  fig, ax = plt.subplots()\n",
        "  ax.scatter(x, y)\n",
        "\n",
        "  ax.set(xlabel='Genome Length', ylabel= list_of_high_freq[0],\n",
        "       title= list_of_high_freq[0]+ \" \" + 'Positions'+ \" \" +'vs Genome Length')\n",
        "  ax.grid()\n",
        "  plt.show()"
      ],
      "execution_count": 0,
      "outputs": []
    },
    {
      "metadata": {
        "id": "q-1huuzPM8-M",
        "colab_type": "code",
        "outputId": "b0d4d6d1-164e-47dd-89de-69436dedadb4",
        "colab": {
          "base_uri": "https://localhost:8080/",
          "height": 480
        }
      },
      "cell_type": "code",
      "source": [
        "#As an example to showcase our code, I've narrowed down the most frequent 5-mer to 'TGATC'and 'GATCA' and shown their positions in the entire genome.\n",
        "#The graph shows exactly where on the genome our frequent kmer appears so we can observe the clusters. \n",
        "print(pattern_frequency('ATT', sample_genome))\n",
        "print(pattern_frequency('CGC', sample_genome))\n",
        "print(all_pattern_frequency_compiler(5, sample_genome))\n",
        "print(highest_frequency_info(all_pattern_frequency_compiler(5, sample_genome)))\n",
        "print(pattern_position_finder(highest_frequency_info(all_pattern_frequency_compiler(5, sample_genome)), sample_genome))\n",
        "positions_grapher(sample_genome)\n"
      ],
      "execution_count": 0,
      "outputs": [
        {
          "output_type": "stream",
          "text": [
            "11\n",
            "4\n",
            "{'ATCAA': 6, 'TCAAT': 2, 'CAATG': 2, 'AATGA': 4, 'ATGAT': 7, 'TGATC': 8, 'GATCA': 8, 'TCAAC': 1, 'CAACG': 1, 'AACGT': 1, 'ACGTA': 1, 'CGTAA': 2, 'GTAAG': 1, 'TAAGC': 2, 'AAGCT': 2, 'AGCTT': 1, 'GCTTC': 3, 'CTTCT': 1, 'TTCTA': 1, 'TCTAA': 1, 'CTAAG': 1, 'AAGCA': 2, 'AGCAT': 2, 'GCATG': 2, 'CATGA': 4, 'TCAAG': 4, 'CAAGG': 2, 'AAGGT': 2, 'AGGTG': 2, 'GGTGC': 1, 'GTGCT': 2, 'TGCTC': 2, 'GCTCA': 1, 'CTCAC': 1, 'TCACA': 1, 'CACAC': 1, 'ACACA': 1, 'CACAG': 1, 'ACAGT': 1, 'CAGTT': 1, 'AGTTT': 1, 'GTTTA': 2, 'TTTAT': 2, 'TTATC': 2, 'TATCC': 1, 'ATCCA': 1, 'TCCAC': 1, 'CCACA': 1, 'CACAA': 1, 'ACAAC': 1, 'CAACC': 1, 'AACCT': 1, 'ACCTG': 1, 'CCTGA': 2, 'CTGAG': 2, 'TGAGT': 1, 'GAGTG': 1, 'AGTGG': 1, 'GTGGA': 1, 'TGGAT': 1, 'GGATG': 2, 'GATGA': 4, 'ATGAC': 2, 'TGACA': 3, 'GACAT': 3, 'ACATC': 3, 'CATCA': 2, 'CAAGA': 2, 'AAGAT': 3, 'AGATA': 1, 'GATAG': 2, 'ATAGG': 1, 'TAGGT': 1, 'AGGTC': 1, 'GGTCG': 1, 'GTCGT': 1, 'TCGTT': 2, 'CGTTG': 1, 'GTTGT': 2, 'TTGTA': 1, 'TGTAT': 1, 'GTATC': 1, 'TATCT': 2, 'ATCTC': 1, 'TCTCC': 1, 'CTCCT': 1, 'TCCTT': 2, 'CCTTC': 1, 'CTTCC': 3, 'TTCCT': 2, 'TCCTC': 1, 'CCTCT': 3, 'CTCTC': 2, 'TCTCG': 1, 'CTCGT': 1, 'TCGTA': 1, 'CGTAC': 1, 'GTACT': 1, 'TACTC': 2, 'ACTCT': 2, 'TCTCA': 1, 'CTCAT': 2, 'TCATG': 3, 'TGACC': 1, 'GACCA': 1, 'ACCAC': 1, 'CCACG': 1, 'CACGG': 1, 'ACGGA': 3, 'CGGAA': 2, 'GGAAA': 1, 'GAAAG': 2, 'AAAGA': 1, 'AGATG': 1, 'AAGAG': 1, 'AGAGA': 1, 'GAGAG': 1, 'AGAGG': 1, 'GAGGA': 1, 'AGGAT': 2, 'TGATT': 1, 'GATTT': 2, 'ATTTC': 1, 'TTTCT': 1, 'TTCTT': 1, 'TCTTG': 6, 'CTTGG': 1, 'TTGGC': 1, 'TGGCC': 2, 'GGCCA': 2, 'GCCAT': 3, 'CCATA': 2, 'CATAT': 2, 'ATATC': 1, 'TATCG': 1, 'ATCGC': 1, 'TCGCA': 1, 'CGCAA': 1, 'GCAAT': 1, 'ATGAA': 2, 'TGAAT': 2, 'GAATA': 1, 'AATAC': 1, 'ATACT': 1, 'TACTT': 1, 'ACTTG': 3, 'CTTGT': 4, 'TTGTG': 2, 'TGTGA': 1, 'GTGAC': 2, 'TGACT': 3, 'GACTT': 2, 'TGTGC': 1, 'TGCTT': 2, 'TTCCA': 1, 'TCCAA': 1, 'CCAAT': 1, 'CAATT': 2, 'AATTG': 3, 'ATTGA': 3, 'TTGAC': 2, 'CATCT': 1, 'ATCTT': 3, 'TCTTC': 2, 'CTTCA': 2, 'TTCAG': 1, 'TCAGC': 1, 'CAGCG': 1, 'AGCGC': 1, 'GCGCC': 1, 'CGCCA': 1, 'ATATT': 1, 'TATTG': 1, 'ATTGC': 1, 'TTGCG': 1, 'TGCGC': 1, 'GCGCT': 1, 'CGCTG': 1, 'GCTGG': 1, 'CTGGC': 1, 'GCCAA': 2, 'CCAAG': 1, 'GGTGA': 1, 'TGACG': 1, 'GACGG': 2, 'CGGAG': 1, 'GGAGC': 1, 'GAGCG': 1, 'AGCGG': 1, 'GCGGG': 1, 'CGGGA': 1, 'GGGAT': 1, 'GGATT': 1, 'GATTA': 1, 'ATTAC': 1, 'TTACG': 2, 'TACGA': 1, 'ACGAA': 1, 'CGAAA': 1, 'AAAGC': 2, 'ATCAT': 4, 'CATGG': 1, 'ATGGC': 1, 'TGGCT': 1, 'GGCTG': 1, 'GCTGT': 1, 'CTGTT': 2, 'TGTTG': 1, 'TTGTT': 4, 'TGTTC': 1, 'GTTCT': 1, 'TTCTG': 1, 'TCTGT': 1, 'TGTTT': 3, 'GTTTT': 2, 'TTTTG': 1, 'TTTGA': 1, 'GACTG': 1, 'ACTGA': 2, 'TGAGA': 1, 'GAGAC': 1, 'AGACT': 1, 'TGTTA': 2, 'GTTAG': 1, 'TTAGG': 1, 'TAGGA': 1, 'GGATA': 1, 'ATAGA': 1, 'TAGAC': 1, 'AGACG': 1, 'ACGGT': 1, 'CGGTT': 1, 'GGTTT': 1, 'TTTTT': 3, 'TTTTC': 1, 'TTTCA': 1, 'TTCAT': 1, 'TCATC': 3, 'ATCAC': 1, 'TCACT': 1, 'CACTG': 1, 'CTGAC': 2, 'GACTA': 1, 'ACTAG': 1, 'CTAGC': 1, 'TAGCC': 2, 'AGCCA': 2, 'CCAAA': 1, 'CAAAG': 1, 'AAGCC': 1, 'AGCCT': 1, 'GCCTT': 1, 'CCTTA': 2, 'CTTAC': 1, 'TTACT': 1, 'CTCTG': 1, 'TCTGC': 1, 'CTGCC': 1, 'TGCCT': 2, 'GCCTG': 1, 'CATCG': 3, 'ATCGA': 2, 'TCGAC': 2, 'CGACC': 1, 'GACCG': 1, 'ACCGT': 1, 'CCGTA': 1, 'GTAAA': 1, 'TAAAT': 1, 'AAATT': 1, 'TTGAT': 4, 'TGATA': 1, 'GATAA': 1, 'ATAAT': 1, 'TAATG': 1, 'GAATT': 1, 'AATTT': 1, 'ATTTA': 2, 'TTTAC': 3, 'TTACA': 1, 'TACAT': 1, 'ACATG': 1, 'CATGC': 1, 'ATGCT': 1, 'TTCCG': 1, 'TCCGC': 1, 'CCGCG': 1, 'CGCGA': 1, 'GCGAC': 1, 'CGACG': 1, 'GACGA': 1, 'ACGAT': 1, 'CGATT': 2, 'TTACC': 1, 'TACCT': 1, 'ACCTC': 1, 'CTCTT': 4, 'CTTGA': 3, 'TCGAT': 1, 'CGATC': 1, 'GATCC': 1, 'ATCCG': 1, 'TCCGA': 1, 'CCGAT': 1, 'GATTG': 1, 'TTGAA': 1, 'TGAAG': 1, 'GAAGA': 2, 'AGATC': 1, 'GATCT': 1, 'TTCAA': 1, 'ATTGT': 1, 'GTTAA': 1, 'TTAAT': 1, 'TAATT': 1, 'AATTC': 1, 'ATTCT': 1, 'TTCTC': 1, 'TCTCT': 1, 'CTTGC': 1, 'TTGCC': 1, 'GCCTC': 1, 'CCTCG': 1, 'CTCGA': 1, 'CGACT': 1, 'GACTC': 1, 'ACTCA': 1, 'TCATA': 1, 'CATAG': 1, 'ATAGC': 1, 'CCATG': 1, 'TGATG': 1, 'ATGAG': 1, 'TGAGC': 1, 'GAGCT': 1, 'AGCTC': 1, 'GCTCT': 2, 'CATGT': 1, 'ATGTT': 1, 'GTTTC': 2, 'TTTCC': 1, 'CTTAA': 1, 'TTAAC': 1, 'TAACC': 1, 'AACCC': 1, 'ACCCT': 1, 'CCCTC': 1, 'CTCTA': 1, 'TCTAT': 1, 'CTATT': 1, 'TATTT': 1, 'ATTTT': 1, 'TTTTA': 1, 'TACGG': 1, 'GGAAG': 1, 'AAGAA': 1, 'AGAAT': 1, 'GAATG': 1, 'CAAGC': 1, 'AGCTG': 1, 'GCTGC': 2, 'CTGCT': 2, 'TGCTG': 1, 'ATCGT': 1, 'CGTTT': 1}\n",
            "['TGATC', 'GATCA']\n",
            "{'TGATC': [5, 28, 128, 249, 399, 470, 509, 527], 'GATCA': [6, 29, 129, 250, 400, 471, 510, 528]}\n"
          ],
          "name": "stdout"
        },
        {
          "output_type": "display_data",
          "data": {
            "image/png": "[encoded data removed]",
            "text/plain": [
              "<Figure size 576x396 with 1 Axes>"
            ]
          },
          "metadata": {
            "tags": []
          }
        }
      ]
    },
    {
      "metadata": {
        "id": "vmVyYWkXLW1D",
        "colab_type": "text"
      },
      "cell_type": "markdown",
      "source": [
        "For a known Ori, it is helpful to understand its layout by finding frequencies of certain strings/patterns of nucleotides. DNA-A is a protein that intiates replication by binding to a string in the Ori. Certain strings of nucleotides allow proteins to bind to DNA, if these strings are more frequent in a small region, binding is more likely to be successful. This is one tool to discover more about a bacterial cell's replication behaviour and can even help narrow down a 500 to 600 nucleotide window as a possible candidate for OriC.\n",
        "\n",
        "**Issues/Evaluation:** Frequent kmers can be a statistical coincidence, there can be several frequent kmers or the oriC might just not be there."
      ]
    },
    {
      "metadata": {
        "id": "q6knYZB3Lfy1",
        "colab_type": "text"
      },
      "cell_type": "markdown",
      "source": [
        "##Leading & Lagging Strands Method"
      ]
    },
    {
      "metadata": {
        "id": "7A9MjgIlLhlo",
        "colab_type": "code",
        "colab": {}
      },
      "cell_type": "code",
      "source": [
        "def nuc_array(sample_genome, nucleotide):\n",
        "  \n",
        "  '''\n",
        "  Input: Nucleotide is the 'letter' we want to scan for and we will iterate through the Genome\n",
        "  \n",
        "  Output: Returns a nucleotide array, detailing how many times a nucleotide appears in our gen//2 sized window at each position\n",
        "  '''\n",
        "  nucleo_dict = {}\n",
        "  genlen = len(sample_genome)\n",
        "  extended_genome = sample_genome+sample_genome[0:genlen//2]\n",
        "  nucleo_dict[0] = pattern_frequency(nucleotide, sample_genome[0:genlen//2])\n",
        "  for i in range(1, genlen):\n",
        "      nucleo_dict[i] = nucleo_dict[i-1]\n",
        "      if extended_genome[i-1] == nucleotide:\n",
        "          nucleo_dict[i] = nucleo_dict[i]-1\n",
        "      if extended_genome[i+(genlen//2)-1] == nucleotide:\n",
        "          nucleo_dict[i] = nucleo_dict[i]+1\n",
        "  return nucleo_dict\n",
        "\n",
        "\n",
        "  \n",
        "def GC_Difference(sample_genome):\n",
        "  '''\n",
        "  Input: sample_genome\n",
        "  Output: An array that shows the difference between G occurrences and C occurrences at a particular position in the genome\n",
        "  '''\n",
        "  count = 0\n",
        "  array = [0]\n",
        "  for n in sample_genome:\n",
        "      if (n == 'C'):\n",
        "          count -= 1\n",
        "      elif (n == 'G'):\n",
        "          count += 1\n",
        "      array.append(count)\n",
        "  return array\n",
        "\n",
        "  \n",
        "  \n",
        "def Lowest_GC_Difference_Points(sample_genome):\n",
        "  \n",
        "  '''\n",
        "  Input: sample_genome\n",
        "  \n",
        "  Output: Positions in the genome with the G-C value attains a minimum\n",
        "  \n",
        "  Useful if you decide not to graph your array from the previous section.\n",
        "  '''\n",
        "  positions = [] \n",
        "  array  = GC_Difference(sample_genome)\n",
        "  m = min(array)\n",
        "  for i in range(len(array)):\n",
        "      if array[i] == m:\n",
        "          positions.append(i)\n",
        "\n",
        "  return positions\n",
        "\n",
        "\n",
        "def GC_grapher(sample_genome):\n",
        "  '''\n",
        "  \n",
        "  '''\n",
        "  t = np.arange(0, len(GC_Difference(sample_genome)), 1)\n",
        "  s = GC_Difference(sample_genome)\n",
        "\n",
        "  fig, ax = plt.subplots()\n",
        "  ax.plot(t, s)\n",
        "\n",
        "  ax.set(xlabel='Genome Length', ylabel='GC Difference',\n",
        "       title='GC Diff vs Genome Length')\n",
        "  ax.grid()\n",
        "  plt.show()\n",
        "\n",
        "  \n",
        "def HammingDistance(p, q):\n",
        "  '''\n",
        "  Simple formula to calculate how many mismatches there ar between two strings (p and q)\n",
        "  '''\n",
        "  count = 0\n",
        "  for i in range(len(p)):\n",
        "      if p[i] != q[i]:\n",
        "          count += 1\n",
        "  return count\n",
        "                  \n",
        "                  \n",
        "def positions_freq_of_mismatches(max_num_mismatches, pattern, sample_genome):\n",
        "                  \n",
        "  '''\n",
        "  Input: max_num_mismatches (int) = The amount of mismatches a sequence can vary at most that you want to record\n",
        "         pattern = The original sequence you are recording mismatches from\n",
        "         sample_genome = Genome\n",
        "\n",
        "  Output: positions = Returns he positions of the mismatched sequences with X or less mismatches (X being max_num_mismatches)\n",
        "                      Returns how many times a sequence with at most X or less mismatches from the original appears in the genome.\n",
        "  '''\n",
        "                  \n",
        "  positions = []\n",
        "  for i in range(len(sample_genome) - len(pattern) + 1):\n",
        "    if HammingDistance(sample_genome[i:i+len(pattern)], pattern) <= max_num_mismatches:\n",
        "      positions.append(i)\n",
        "  return positions, len(positions)"
      ],
      "execution_count": 0,
      "outputs": []
    },
    {
      "metadata": {
        "id": "Rmeub73aKUR0",
        "colab_type": "code",
        "outputId": "d82450d6-dd17-4ead-e8b1-d3c4a5fabd1a",
        "colab": {
          "base_uri": "https://localhost:8080/",
          "height": 463
        }
      },
      "cell_type": "code",
      "source": [
        "print((nuc_array(sample_genome, 'A')))\n",
        "print(GC_Difference(sample_genome))\n",
        "print(Lowest_GC_Difference_Points(sample_genome))\n",
        "print(positions_freq_of_mismatches(3, \"ATAGGCTA\", sample_genome))\n",
        "GC_grapher(sample_genome)"
      ],
      "execution_count": 0,
      "outputs": [
        {
          "output_type": "stream",
          "text": [
            "{0: 72, 1: 71, 2: 71, 3: 72, 4: 71, 5: 70, 6: 70, 7: 70, 8: 69, 9: 69, 10: 69, 11: 68, 12: 67, 13: 67, 14: 68, 15: 68, 16: 67, 17: 66, 18: 67, 19: 67, 20: 68, 21: 68, 22: 68, 23: 68, 24: 67, 25: 66, 26: 66, 27: 67, 28: 66, 29: 66, 30: 67, 31: 66, 32: 67, 33: 67, 34: 67, 35: 66, 36: 66, 37: 66, 38: 66, 39: 66, 40: 66, 41: 66, 42: 66, 43: 65, 44: 66, 45: 65, 46: 65, 47: 65, 48: 65, 49: 65, 50: 65, 51: 66, 52: 65, 53: 65, 54: 66, 55: 66, 56: 65, 57: 65, 58: 65, 59: 65, 60: 66, 61: 66, 62: 66, 63: 66, 64: 65, 65: 65, 66: 66, 67: 66, 68: 66, 69: 65, 70: 65, 71: 65, 72: 64, 73: 64, 74: 63, 75: 63, 76: 64, 77: 63, 78: 63, 79: 63, 80: 62, 81: 62, 82: 62, 83: 62, 84: 62, 85: 62, 86: 62, 87: 63, 88: 64, 89: 65, 90: 65, 91: 65, 92: 64, 93: 65, 94: 65, 95: 66, 96: 67, 97: 67, 98: 67, 99: 68, 100: 69, 101: 69, 102: 69, 103: 69, 104: 70, 105: 70, 106: 71, 107: 71, 108: 70, 109: 70, 110: 70, 111: 70, 112: 70, 113: 70, 114: 69, 115: 69, 116: 69, 117: 69, 118: 69, 119: 69, 120: 69, 121: 69, 122: 69, 123: 69, 124: 69, 125: 68, 126: 67, 127: 67, 128: 66, 129: 66, 130: 66, 131: 65, 132: 66, 133: 66, 134: 65, 135: 65, 136: 65, 137: 64, 138: 64, 139: 64, 140: 64, 141: 64, 142: 63, 143: 63, 144: 64, 145: 63, 146: 63, 147: 63, 148: 64, 149: 65, 150: 65, 151: 66, 152: 66, 153: 66, 154: 66, 155: 66, 156: 65, 157: 66, 158: 66, 159: 66, 160: 66, 161: 66, 162: 66, 163: 65, 164: 65, 165: 66, 166: 66, 167: 65, 168: 64, 169: 64, 170: 63, 171: 63, 172: 63, 173: 63, 174: 63, 175: 63, 176: 63, 177: 62, 178: 62, 179: 63, 180: 63, 181: 63, 182: 63, 183: 64, 184: 64, 185: 65, 186: 65, 187: 65, 188: 65, 189: 65, 190: 64, 191: 64, 192: 65, 193: 65, 194: 64, 195: 65, 196: 64, 197: 64, 198: 64, 199: 64, 200: 64, 201: 64, 202: 63, 203: 64, 204: 64, 205: 64, 206: 65, 207: 65, 208: 64, 209: 64, 210: 63, 211: 63, 212: 63, 213: 63, 214: 63, 215: 63, 216: 64, 217: 65, 218: 65, 219: 65, 220: 65, 221: 65, 222: 64, 223: 63, 224: 64, 225: 64, 226: 64, 227: 64, 228: 63, 229: 63, 230: 63, 231: 64, 232: 63, 233: 63, 234: 63, 235: 64, 236: 65, 237: 65, 238: 65, 239: 66, 240: 66, 241: 65, 242: 66, 243: 66, 244: 65, 245: 65, 246: 65, 247: 65, 248: 65, 249: 64, 250: 64, 251: 64, 252: 63, 253: 63, 254: 63, 255: 62, 256: 62, 257: 62, 258: 62, 259: 62, 260: 63, 261: 63, 262: 63, 263: 64, 264: 64, 265: 64, 266: 64, 267: 64, 268: 64, 269: 64, 270: 64, 271: 65, 272: 65, 273: 64, 274: 65, 275: 66, 276: 66, 277: 66, 278: 67, 279: 67, 280: 67, 281: 68, 282: 69, 283: 69, 284: 68, 285: 68, 286: 69, 287: 70, 288: 69, 289: 69, 290: 68, 291: 68, 292: 68, 293: 68, 294: 69, 295: 70, 296: 70, 297: 69, 298: 70, 299: 70, 300: 69, 301: 70, 302: 69, 303: 69, 304: 69, 305: 70, 306: 70, 307: 70, 308: 70, 309: 70, 310: 70, 311: 70, 312: 70, 313: 71, 314: 70, 315: 71, 316: 71, 317: 71, 318: 71, 319: 71, 320: 71, 321: 70, 322: 71, 323: 71, 324: 70, 325: 70, 326: 71, 327: 71, 328: 71, 329: 71, 330: 70, 331: 70, 332: 70, 333: 70, 334: 71, 335: 71, 336: 70, 337: 70, 338: 70, 339: 71, 340: 71, 341: 71, 342: 72, 343: 72, 344: 73, 345: 73, 346: 72, 347: 73, 348: 73, 349: 73, 350: 74, 351: 74, 352: 74, 353: 74, 354: 74, 355: 74, 356: 74, 357: 73, 358: 72, 359: 71, 360: 71, 361: 71, 362: 72, 363: 71, 364: 71, 365: 70, 366: 69, 367: 69, 368: 69, 369: 68, 370: 67, 371: 67, 372: 67, 373: 67, 374: 66, 375: 66, 376: 65, 377: 65, 378: 66, 379: 66, 380: 66, 381: 66, 382: 66, 383: 66, 384: 67, 385: 67, 386: 67, 387: 67, 388: 67, 389: 67, 390: 67, 391: 67, 392: 67, 393: 67, 394: 67, 395: 68, 396: 69, 397: 69, 398: 70, 399: 70, 400: 70, 401: 71, 402: 70, 403: 70, 404: 71, 405: 71, 406: 71, 407: 72, 408: 72, 409: 72, 410: 72, 411: 72, 412: 73, 413: 73, 414: 72, 415: 73, 416: 73, 417: 73, 418: 72, 419: 71, 420: 71, 421: 70, 422: 70, 423: 70, 424: 70, 425: 70, 426: 71, 427: 70, 428: 70, 429: 70, 430: 70, 431: 70, 432: 70, 433: 71, 434: 71, 435: 70, 436: 70, 437: 71, 438: 72, 439: 72, 440: 73, 441: 73, 442: 73, 443: 73, 444: 73, 445: 73, 446: 73, 447: 74, 448: 74, 449: 73, 450: 73, 451: 73, 452: 73, 453: 72, 454: 72, 455: 71, 456: 71, 457: 71, 458: 71, 459: 71, 460: 72, 461: 72, 462: 71, 463: 71, 464: 72, 465: 71, 466: 72, 467: 72, 468: 72, 469: 72, 470: 72, 471: 72, 472: 73, 473: 72, 474: 72, 475: 72, 476: 71, 477: 71, 478: 72, 479: 72, 480: 73, 481: 73, 482: 73, 483: 73, 484: 73, 485: 73, 486: 72, 487: 71, 488: 71, 489: 71, 490: 71, 491: 71, 492: 72, 493: 73, 494: 72, 495: 72, 496: 72, 497: 72, 498: 73, 499: 73, 500: 73, 501: 72, 502: 73, 503: 73, 504: 73, 505: 72, 506: 71, 507: 71, 508: 71, 509: 70, 510: 70, 511: 71, 512: 70, 513: 70, 514: 71, 515: 71, 516: 71, 517: 71, 518: 71, 519: 72, 520: 72, 521: 72, 522: 73, 523: 73, 524: 73, 525: 74, 526: 74, 527: 74, 528: 74, 529: 74, 530: 73, 531: 73, 532: 73, 533: 72, 534: 72, 535: 72, 536: 72, 537: 72, 538: 72, 539: 72}\n",
            "[0, 0, 0, -1, -1, -1, -1, 0, 0, 0, -1, -1, -1, -2, -1, -1, -1, -1, 0, -1, -1, -1, -2, -2, -2, -2, -1, -2, -2, -2, -1, -1, -1, -2, -2, -2, -1, 0, 0, 1, 0, 0, -1, -1, -2, -2, -3, -3, -2, -2, -2, -2, -2, -2, -3, -4, -4, -5, -5, -5, -6, -7, -7, -6, -6, -5, -5, -4, -3, -3, -3, -2, -2, -3, -3, -3, -4, -4, -4, -3, -3, -3, -3, -2, -1, -1, -2, -1, -1, -1, 0, 0, 0, 0, -1, -1, -2, -3, -3, -3, -4, -5, -5, -6, -6, -7, -6, -6, -6, -7, -7, -8, -8, -9, -9, -9, -8, -8, -9, -10, -10, -11, -10, -9, -9, -9, -9, -8, -8, -8, -7, -7, -7, -8, -8, -8, -7, -7, -6, -6, -5, -4, -4, -4, -3, -3, -3, -3, -3, -4, -4, -4, -3, -2, -3, -4, -4, -4, -4, -4, -5, -4, -5, -5, -5, -5, -4, -4, -4, -4, -4, -5, -5, -5, -4, -4, -3, -3, -4, -4, -4, -3, -3, -2, -3, -3, -3, -4, -5, -5, -5, -5, -5, -4, -4, -5, -5, -5, -6, -6, -6, -7, -7, -6, -7, -6, -7, -8, -8, -8, -8, -8, -8, -7, -8, -7, -8, -8, -7, -6, -7, -8, -8, -8, -7, -6, -6, -5, -5, -6, -5, -4, -4, -3, -4, -3, -2, -1, -1, -1, -1, -1, -2, -1, -1, -1, -1, 0, -1, -1, -1, 0, 0, 0, -1, -1, -1, 0, 1, 0, 0, 1, 1, 1, 2, 2, 2, 1, 1, 2, 2, 2, 2, 2, 2, 1, 1, 1, 2, 2, 2, 2, 2, 3, 3, 2, 2, 3, 3, 4, 4, 3, 3, 3, 4, 4, 4, 4, 5, 6, 6, 6, 6, 7, 7, 6, 7, 8, 8, 8, 8, 8, 8, 7, 7, 7, 6, 6, 5, 5, 6, 6, 5, 5, 5, 6, 5, 4, 4, 4, 4, 5, 4, 3, 3, 3, 3, 2, 2, 1, 1, 2, 1, 0, 0, 1, 1, 0, 0, 0, -1, 0, 0, -1, -2, -1, -1, -1, -1, -1, -1, -1, 0, 0, 0, 0, 0, 0, 1, 1, 1, 1, 1, 1, 1, 0, 0, 0, 1, 0, 0, 0, -1, -2, -1, -2, -1, -1, -2, -1, -1, -1, -1, -1, -1, -2, -3, -3, -4, -4, -4, -3, -3, -3, -4, -4, -4, -5, -4, -4, -4, -5, -6, -5, -5, -5, -5, -4, -4, -4, -3, -3, -3, -4, -4, -4, -5, -5, -5, -5, -5, -4, -4, -4, -4, -4, -4, -4, -5, -5, -6, -6, -6, -5, -6, -7, -7, -8, -7, -7, -8, -8, -9, -9, -9, -9, -8, -9, -10, -10, -10, -9, -9, -9, -8, -8, -7, -8, -8, -9, -9, -9, -8, -8, -8, -9, -9, -9, -8, -8, -8, -8, -9, -10, -10, -10, -10, -10, -11, -12, -13, -13, -14, -14, -14, -14, -14, -14, -14, -14, -14, -14, -15, -14, -13, -13, -13, -12, -12, -12, -12, -11, -11, -11, -12, -12, -12, -11, -12, -12, -11, -12, -12, -11, -12, -12, -13, -13, -13, -12, -12, -12, -13, -13, -13, -14, -13, -13, -13, -13, -14]\n",
            "[502]\n",
            "([13, 44, 79, 136, 148, 294, 299, 316, 321, 327, 373, 452, 461], 13)\n"
          ],
          "name": "stdout"
        },
        {
          "output_type": "display_data",
          "data": {
            "image/png": "[encoded data removed]",
            "text/plain": [
              "<Figure size 576x396 with 1 Axes>"
            ]
          },
          "metadata": {
            "tags": []
          }
        }
      ]
    },
    {
      "metadata": {
        "id": "43KnXP1oVTA7",
        "colab_type": "text"
      },
      "cell_type": "markdown",
      "source": [
        "During replication, DNA polymerase moves along the template (original) strand from 3' to 5' and synthesizes the complementary strand from 5' to 3'. This is our well-known leading strand. We also know that the lagging strand takes longer due to needing to wait for the fork in the replication to open up to make okazaki fragments. We can use this knowledge to our advantage to find the OriC! Since the lagging strand spends more of its life single stranded than the leading strand, it is more unstable and much more prone to mutation. Due to this,  deamination occurs more frequently, a process by which cytosine mutates into thymine. Thus there is a significant decrease in guanine (cytosines pair) as well.\n",
        "\n",
        "Knowing C is less common in the lagging strand and more common in the leading one now, we can split our genome in two and slide a window of length genome//2 and count up the occurrences of A, C, G, T (seen in our array function).\n",
        "\n",
        "Therefore by going through the genome and keeping a tally of the difference between G-C occurences at each point we can see any difference fluctuations. The moment we go from a positive increasing difference to decreasing we know we've passed the OriC!\n",
        "However, even finding the Kmer at the right position leaves us with a problem of mismatching Kmers. There could be a nucleotide thats different that the DNA-A can still bind to and doesn't necessarily need to be the perfect sequences. positions_freq_of_mismatches lets us see all the positions at which sequences of an original appear with at most X mismatches, and the frequency of mismatches.\n",
        "\n",
        "\n",
        "**Issues/Evaluation:** The possibility that frequent kmer clusters correspond to something other than replication remains so the prediction is not 100% perfect. However, even providing a canadidate for biologists to examine is useful."
      ]
    }
  ]
}